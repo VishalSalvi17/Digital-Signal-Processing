{
 "cells": [
  {
   "cell_type": "code",
   "execution_count": 44,
   "metadata": {},
   "outputs": [],
   "source": [
    "from cmath import exp, pi\n",
    "\n",
    "def fft(x, verbose=True):\n",
    "    N = len(x)\n",
    "    if N <= 1: \n",
    "        return x\n",
    "    if N % 2 > 0:\n",
    "        raise ValueError(\"size of x must be a power of 2\")\n",
    "    even = fft(x[::2], verbose)\n",
    "    odd =  fft(x[1::2], verbose)\n",
    "    r = range(N//2)\n",
    "    T = [exp(-2j * pi * k / N) * odd[k] for k in r]\n",
    "    [even[k] for k in r]\n",
    "    res = ([even[k] + T[k] for k in r] +\n",
    "           [even[k] - T[k] for k in r])\n",
    "    if verbose:\n",
    "        print(res)\n",
    "    return res"
   ]
  },
  {
   "cell_type": "code",
   "execution_count": 49,
   "metadata": {},
   "outputs": [
    {
     "name": "stdout",
     "output_type": "stream",
     "text": [
      "[(6+0j), (-4+0j)]\n",
      "[(10+0j), (-4+0j)]\n",
      "[(16+0j), (-4+4j), (-4+0j), (-3.9999999999999996-4j)]\n",
      "[(8+0j), (-4+0j)]\n",
      "[(12+0j), (-4+0j)]\n",
      "[(20+0j), (-4+4j), (-4+0j), (-3.9999999999999996-4j)]\n",
      "[(36+0j), (-4+9.65685424949238j), (-4+4j), (-4+1.6568542494923797j), (-4+0j), (-4-1.6568542494923806j), (-3.9999999999999996-4j), (-3.9999999999999987-9.65685424949238j)]\n",
      "36.000 -4.000 -4.000 -4.000 -4.000 -4.000 -4.000 -4.000\n"
     ]
    }
   ],
   "source": [
    "input_data = [1.0, 2.0, 3.0, 4.0, 5.0, 6.0, 7.0, 8.0]\n",
    "print(' '.join(\"%5.3f\" % (complex(f).real + complex(f).imag) for f in fft(input_data)))"
   ]
  },
  {
   "cell_type": "code",
   "execution_count": 46,
   "metadata": {},
   "outputs": [],
   "source": [
    "import math\n",
    "\n",
    "def rifft(y):\n",
    "    n = len(y)\n",
    "    if n == 1:\n",
    "        return y\n",
    "    i = 1j\n",
    "    w_n = exp(2 * i * pi / float(n))\n",
    "    w = 1\n",
    "    y_0 = np.zeros(int(math.ceil(n / 2.0)), dtype=np.complex_)\n",
    "    y_1 = np.zeros(int(n / 2), dtype=np.complex_)\n",
    "    for index in range(0, n):\n",
    "        if index % 2 == 0:\n",
    "            y_0[int(index/2)] = y[int(index)]\n",
    "        else:\n",
    "            y_1[int(index / 2)] = y[int(index)]\n",
    "    a_0 = rifft(y_0)\n",
    "    a_1 = rifft(y_1)\n",
    "    a = np.zeros(n, dtype=np.complex_)\n",
    "    for k in range(0, int(n / 2)):\n",
    "        a[k] = (a_0[k] + w * a_1[k])\n",
    "        a[int(k + n / 2)] = (a_0[k] - w * a_1[k])\n",
    "        w = w * w_n\n",
    "    return a"
   ]
  },
  {
   "cell_type": "code",
   "execution_count": 47,
   "metadata": {},
   "outputs": [
    {
     "name": "stdout",
     "output_type": "stream",
     "text": [
      "1.000 2.000 3.000 4.000 5.000 6.000 7.000 8.000\n"
     ]
    },
    {
     "name": "stderr",
     "output_type": "stream",
     "text": [
      "<ipython-input-47-141e68ad8807>:4: ComplexWarning: Casting complex values to real discards the imaginary part\n",
      "  print(' '.join(\"%5.3f\" % f for f in rifft_op))\n"
     ]
    }
   ],
   "source": [
    "import numpy as np\n",
    "fft_op = fft(input_data, False)\n",
    "rifft_op = rifft(fft_op)/len(fft_op)\n",
    "print(' '.join(\"%5.3f\" % f for f in rifft_op))"
   ]
  },
  {
   "cell_type": "code",
   "execution_count": 48,
   "metadata": {},
   "outputs": [
    {
     "name": "stdout",
     "output_type": "stream",
     "text": [
      "[(6+0j), (-4+0j)]\n",
      "[(10+0j), (-4+0j)]\n",
      "[(16+0j), (-4+4j), (-4+0j), (-3.9999999999999996-4j)]\n",
      "[(8+0j), (-4+0j)]\n",
      "[(12+0j), (-4+0j)]\n",
      "[(20+0j), (-4+4j), (-4+0j), (-3.9999999999999996-4j)]\n",
      "[(36+0j), (-4+9.65685424949238j), (-4+4j), (-4+1.6568542494923797j), (-4+0j), (-4-1.6568542494923806j), (-3.9999999999999996-4j), (-3.9999999999999987-9.65685424949238j)]\n",
      "FFT : [(36+0j), (-4+9.65685424949238j), (-4+4j), (-4+1.6568542494923797j), (-4+0j), (-4-1.6568542494923806j), (-3.9999999999999996-4j), (-3.9999999999999987-9.65685424949238j)]\n",
      "Total time taken by fft: 0.00103 seconds\n",
      "IFFT:  [1.-1.11022302e-16j 2.+5.72118873e-18j 3.-2.22044605e-16j\n",
      " 4.-5.72118873e-18j 5.+1.11022302e-16j 6.+5.72118873e-18j\n",
      " 7.+2.22044605e-16j 8.-5.72118873e-18j]\n",
      "1.000 2.000 3.000 4.000 5.000 6.000 7.000 8.000\n",
      "Total time taken by ifft: 0.0 seconds\n"
     ]
    },
    {
     "name": "stderr",
     "output_type": "stream",
     "text": [
      "<ipython-input-48-00e0a8f6fecb>:14: ComplexWarning: Casting complex values to real discards the imaginary part\n",
      "  print(' '.join(\"%5.3f\" % f for f in rifft_op))\n"
     ]
    }
   ],
   "source": [
    "import time\n",
    "time.sleep(1)\n",
    "start_time=time.time()\n",
    "yn_fft=fft(input_data)\n",
    "fft_time = time.time()\n",
    "print(\"FFT :\" ,yn_fft)\n",
    "print(\"Total time taken by fft:\", np.round(fft_time-start_time,5),\"seconds\")\n",
    "\n",
    "t1=time.time()\n",
    "# taking same output of fft for idft\n",
    "yn_ifft=rifft(rifft_op)\n",
    "t2=time.time()\n",
    "print(\"IFFT: \",rifft_op)\n",
    "print(' '.join(\"%5.3f\" % f for f in rifft_op))\n",
    "print(\"Total time taken by ifft:\", np.round(t2-t1,5),\"seconds\")\n"
   ]
  },
  {
   "cell_type": "code",
   "execution_count": null,
   "metadata": {},
   "outputs": [],
   "source": []
  },
  {
   "cell_type": "code",
   "execution_count": null,
   "metadata": {},
   "outputs": [],
   "source": []
  }
 ],
 "metadata": {
  "kernelspec": {
   "display_name": "Python 3",
   "language": "python",
   "name": "python3"
  },
  "language_info": {
   "codemirror_mode": {
    "name": "ipython",
    "version": 3
   },
   "file_extension": ".py",
   "mimetype": "text/x-python",
   "name": "python",
   "nbconvert_exporter": "python",
   "pygments_lexer": "ipython3",
   "version": "3.8.5"
  }
 },
 "nbformat": 4,
 "nbformat_minor": 2
}
