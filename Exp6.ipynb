{
 "cells": [
  {
   "cell_type": "code",
   "execution_count": 1,
   "metadata": {},
   "outputs": [
    {
     "name": "stdout",
     "output_type": "stream",
     "text": [
      "Enter the discrete values for signal:\n",
      "1 2 3 4 5 6 7 8\n",
      "[(20+0j), (-4+4j), (-4+0j), (-4-4j)]\n",
      "[(16+0j), (-4+4j), (-4+0j), (-4-4j)]\n",
      "\n",
      "x(k) is: \n",
      "\n",
      "[(36+0j), (-4+9.66j), (-4+4j), (-4+1.66j), (-4+0j), (-4-1.66j), (-4-4j), (-4-9.66j)]\n"
     ]
    }
   ],
   "source": [
    "import numpy as np\n",
    "import math\n",
    "\n",
    "\n",
    "xn = list(map(int, input(\"Enter the discrete values for signal:\\n\").split()))\n",
    "\n",
    "N = len(xn)\n",
    "\n",
    "\n",
    "def dft(xn):\n",
    "    N = len(xn)\n",
    "    add = [0]*N\n",
    "    comp = 0-1j\n",
    "\n",
    "    for k in range(N):\n",
    "        for n in range(N):\n",
    "            add[k] = add[k]+xn[n]*((np.exp((math.pi*2/N)*comp))**(n*k))\n",
    "\n",
    "    for xk in range(N):\n",
    "        add[xk] = np.round(add[xk].real, 2)+np.round(add[xk].imag, 2)*1j\n",
    "    return(add)\n",
    "\n",
    "def Log2(x):\n",
    "    if x == 0:\n",
    "        return False;\n",
    " \n",
    "    return (math.log10(x) /math.log10(2))\n",
    " \n",
    "# Function to check\n",
    "# if x is power of 2\n",
    "def isPowerOfTwo(n):\n",
    "    return (math.ceil(Log2(n)) == math.floor(Log2(n)))\n",
    "\n",
    "if(isPowerOfTwo(N) == False):\n",
    "    print(\"No. of discrete values should be multiple of 2\")\n",
    "else:\n",
    "    even = dft(xn[::2])\n",
    "    odd = dft(xn[1::2])\n",
    "    print(odd)\n",
    "    print(even)\n",
    "\n",
    "    comp = 0-1j\n",
    "    N = len(xn)\n",
    "    ans = [0]*N\n",
    "\n",
    "    even = even+even\n",
    "    odd = odd+odd\n",
    "\n",
    "    for k in range(N):\n",
    "        odd[k] = odd[k]*((np.exp((math.pi*2/N)*comp))**(k))\n",
    "\n",
    "    for k in range(N):\n",
    "        ans[k] = even[k]+odd[k]\n",
    "    \n",
    "\n",
    "    for xk in range(N):\n",
    "        ans[xk] = np.round(ans[xk].real, 2)+np.round(ans[xk].imag, 2)*1j\n",
    "    print(\"\\nx(k) is: \\n\")\n",
    "    print(ans)"
   ]
  },
  {
   "cell_type": "code",
   "execution_count": 2,
   "metadata": {},
   "outputs": [],
   "source": [
    "import matplotlib.pyplot as plt"
   ]
  },
  {
   "cell_type": "code",
   "execution_count": 3,
   "metadata": {},
   "outputs": [
    {
     "data": {
      "text/plain": [
       "Text(0.5, 1.0, 'Plotting xn')"
      ]
     },
     "execution_count": 3,
     "metadata": {},
     "output_type": "execute_result"
    },
    {
     "data": {
      "image/png": "[encoded data removed]",
      "text/plain": [
       "<Figure size 432x288 with 1 Axes>"
      ]
     },
     "metadata": {
      "needs_background": "light"
     },
     "output_type": "display_data"
    }
   ],
   "source": [
    "x = [i+1 for i in range(len(xn))]\n",
    "plt.stem(x,xn, use_line_collection=True)\n",
    "plt.title(\"Plotting xn\")"
   ]
  },
  {
   "cell_type": "code",
   "execution_count": 9,
   "metadata": {},
   "outputs": [
    {
     "data": {
      "image/png": "[encoded data removed]",
      "text/plain": [
       "<Figure size 432x288 with 1 Axes>"
      ]
     },
     "metadata": {
      "needs_background": "light"
     },
     "output_type": "display_data"
    }
   ],
   "source": [
    "data = np.array(ans)\n",
    "data\n",
    "x = data.real \n",
    "# extract imaginary part using numpy array \n",
    "y = data.imag \n",
    "  \n",
    "# plot the complex numbers \n",
    "plt.plot(x, y, 'g*') \n",
    "plt.ylabel('Imaginary') \n",
    "plt.xlabel('Real') \n",
    "plt.show()"
   ]
  },
  {
   "cell_type": "code",
   "execution_count": 11,
   "metadata": {},
   "outputs": [
    {
     "data": {
      "text/plain": [
       "<StemContainer object of 3 artists>"
      ]
     },
     "execution_count": 11,
     "metadata": {},
     "output_type": "execute_result"
    },
    {
     "data": {
      "image/png": "[encoded data removed]",
      "text/plain": [
       "<Figure size 432x288 with 1 Axes>"
      ]
     },
     "metadata": {
      "needs_background": "light"
     },
     "output_type": "display_data"
    }
   ],
   "source": [
    "plt.stem(x,y,use_line_collection=True)"
   ]
  },
  {
   "cell_type": "code",
   "execution_count": null,
   "metadata": {},
   "outputs": [],
   "source": []
  }
 ],
 "metadata": {
  "kernelspec": {
   "display_name": "Python 3",
   "language": "python",
   "name": "python3"
  },
  "language_info": {
   "codemirror_mode": {
    "name": "ipython",
    "version": 3
   },
   "file_extension": ".py",
   "mimetype": "text/x-python",
   "name": "python",
   "nbconvert_exporter": "python",
   "pygments_lexer": "ipython3",
   "version": "3.8.5"
  }
 },
 "nbformat": 4,
 "nbformat_minor": 2
}
